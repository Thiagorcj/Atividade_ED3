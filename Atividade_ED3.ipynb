{
  "nbformat": 4,
  "nbformat_minor": 0,
  "metadata": {
    "colab": {
      "provenance": []
    },
    "kernelspec": {
      "name": "python3",
      "display_name": "Python 3"
    },
    "language_info": {
      "name": "python"
    }
  },
  "cells": [
    {
      "cell_type": "markdown",
      "source": [
        "# Atividade Estrutura de Dados - Algoritmos de ordenação\n",
        "## Aluno: Thiago Rodrigues Cruz Justino (20220007276)\n",
        "## Professor: Gilberto Farias de Sousa Filho\n",
        "\n",
        "A atividade consiste em fazer os seguintes algoritmos de ordenação:\n",
        "- Selection sort\n",
        "- Insertion sort\n",
        "- Merge Sort\n",
        "\n",
        "Além disso, deve-se observar e comparar o tempo de execução de cada algoritmo."
      ],
      "metadata": {
        "id": "1ATJ6UwgMrFy"
      }
    },
    {
      "cell_type": "markdown",
      "source": [
        "## Adaptação para abrir os arquivos e o usuário selecionar o arquivo que deseja testar:\n",
        "Bom, para fazer um aplicação que possa ser executável a qualquer momento sem precisar baixar nada, optei por armazenar as instâncias de teste no Github. Como apresentado no seguinte código:"
      ],
      "metadata": {
        "id": "02txuHAOPkCZ"
      }
    },
    {
      "cell_type": "code",
      "source": [
        "import requests\n",
        "# Solicita ao usuário o número de instâncias e o exemplo desejado\n",
        "n = input(\"Digite o número de instâncias desejado (Opções: 1000, 10000, 100000): \")\n",
        "p = input(\"Selecione um dos exemplos (Opções: 1, 2, 3 ou 4): \")\n",
        "array = []\n",
        "# Verifique se as entradas são válidas\n",
        "opcoes_n = ['1000', '10000', '100000']\n",
        "opcoes_p = ['1', '2', '3', '4']\n",
        "\n",
        "if n not in opcoes_n or p not in opcoes_p:\n",
        "    print(\"Entrada inválida. Certifique-se de escolher opções válidas.\")\n",
        "\n",
        "else:\n",
        "  # URL direta do arquivo no GitHub\n",
        "  url = f'https://raw.githubusercontent.com/Thiagorcj/Atividade_ED3/main/instancias-num/num.{n}.{p}.in'\n",
        "\n",
        "  # Faz uma solicitação para obter o conteúdo do arquivo\n",
        "  response = requests.get(url)\n",
        "\n",
        "  # Verifica se a solicitação foi bem-sucedida\n",
        "  if response.status_code == 200:\n",
        "      # O conteúdo do arquivo estará em response.text\n",
        "      conteudo = response.text\n",
        "\n",
        "      # Divida o conteúdo em linhas\n",
        "      linhas = conteudo.splitlines()\n",
        "\n",
        "      # Itera sobre as linhas\n",
        "      for linha in linhas:\n",
        "          array.append(int(linha))\n",
        "  else:\n",
        "      print('Falha ao obter o arquivo do GitHub. Código de status:', response.status_code)"
      ],
      "metadata": {
        "colab": {
          "base_uri": "https://localhost:8080/"
        },
        "id": "3Xvous8jP-XI",
        "outputId": "560fc99d-453b-46ee-d095-dce99e4f9310"
      },
      "execution_count": 20,
      "outputs": [
        {
          "name": "stdout",
          "output_type": "stream",
          "text": [
            "Digite o número de instâncias desejado (Opções: 1000, 10000, 100000): 1000\n",
            "Selecione um dos exemplos (Opções: 1, 2, 3 ou 4): 1\n"
          ]
        }
      ]
    },
    {
      "cell_type": "markdown",
      "source": [
        "## Algoritmos de Ordenação:"
      ],
      "metadata": {
        "id": "0p-3R1bjQLsj"
      }
    },
    {
      "cell_type": "markdown",
      "source": [
        "### Selection Sort:\n"
      ],
      "metadata": {
        "id": "QzNDYI76OSYz"
      }
    },
    {
      "cell_type": "markdown",
      "source": [
        "#### Explicação do código\n",
        "O código começa com um loop \"for\" que percorre todos os elementos do array, exceto o último, pois não há necessidade de compará-lo, já que não há elementos à direita. Neste primeiro \"for\", é armazenado o valor inicial e, em seguida, todos os valores à esquerda são comparados através de outro loop, com o objetivo de identificar o menor valor à direita. Após percorrer todos os valores à direita do valor inicial, o valor inicial é trocado pelo menor valor encontrado. Desta forma, os elementos da posição 0 até n-1 são gradualmente substituídos pelos valores menores à direita, resultando na ordenação crescente do array com um algoritmo de complexidade O(N²)."
      ],
      "metadata": {
        "id": "HZBVHw-brP2u"
      }
    },
    {
      "cell_type": "markdown",
      "source": [
        "#### Tempo de execução do código:\n",
        "- Executando 1000 elementos: Em média aproximadamente 0,05 segundos.\n",
        "- Executando 10000 elementos: Em média aproximadamente 5,7 segundos.\n",
        "- Executando 100000 elementos: Em média aproximadamente 537 segundos."
      ],
      "metadata": {
        "id": "8l1npRM-Br_Q"
      }
    },
    {
      "cell_type": "code",
      "execution_count": 25,
      "metadata": {
        "colab": {
          "base_uri": "https://localhost:8080/"
        },
        "id": "KagyBCWBMj-F",
        "outputId": "fc4abc15-ce4c-42e4-fbdf-8fcd9feeeb5c"
      },
      "outputs": [
        {
          "output_type": "stream",
          "name": "stdout",
          "text": [
            "Antes:[1000, 93287, -2, 94656, -29, -14, 24, -48, '...', -39, -46, 67711, 14, 42, 65284, 26, 58119]\n",
            "Tempo de execução: 0.047794 segundos\n",
            "Depois:[-50, -50, -50, -49, -49, -49, -49, -49, '...', 99199, 99242, 99311, 99638, 99659, 99716, 99877, 99911]\n"
          ]
        }
      ],
      "source": [
        "import time\n",
        "import copy\n",
        "\n",
        "def SelectionSort(arr):\n",
        "  array = copy.copy(arr)   # Prefiri não modificar diretamente o array, mas criar uma cópia\n",
        "  # Registra o tempo de início\n",
        "  start_time = time.time()\n",
        "  # Algoritmo\n",
        "  for i in range(len(array)-1):\n",
        "    inicial = array[i]\n",
        "    indice_menor = i\n",
        "\n",
        "    for j in range(i+1,len(array)):\n",
        "      if array[j]<array[indice_menor]:\n",
        "        indice_menor = j\n",
        "\n",
        "    array[i] = array[indice_menor]\n",
        "    array[indice_menor] = inicial\n",
        "  # Registra o tempo de término\n",
        "  end_time = time.time()\n",
        "  # Calcula o tempo de execução\n",
        "  execution_time = end_time - start_time\n",
        "  print(f\"Tempo de execução: {execution_time:.6f} segundos\")\n",
        "\n",
        "  return array\n",
        "# Optei por resumir para apenas 8 iniciais e finais no print\n",
        "# Printando o array antes da ordenação:\n",
        "print(f\"Antes:{(array[:8] + ['...'] + array[-8:])}\")\n",
        "# Printando o array depois da ordenação:\n",
        "lista = SelectionSort(array)\n",
        "print(f\"Depois:{(lista[:8] + ['...'] + lista[-8:])}\")\n",
        "\n",
        "\n"
      ]
    },
    {
      "cell_type": "markdown",
      "source": [
        "### Insertion Sort:\n"
      ],
      "metadata": {
        "id": "vbNp5kiY0NxS"
      }
    },
    {
      "cell_type": "markdown",
      "source": [
        "#### Explicação do código:\n",
        "Iniciamos o algoritmo com um loop 'for' que começa a partir da segunda posição, uma vez que iremos observar e comparar esses elementos com os elementos à esquerda, que não existem na primeira posição. Neste algoritmo, selecionamos um elemento representado pela variável \"atual\", armazenamos o seu valor e o comparamos com os elementos à esquerda. Ao fazer isso, arrastamos os elementos com valores maiores para a direita até encontrar um que seja menor ou até atingirmos a posição 0. Quando isso ocorre, deslocamos o elemento desta posição para a direita e inserimos o \"atual\". Repetindo esse processo para todos os elementos, obtemos uma lista ordenada, resultado de um algoritmo com complexidade O(N²).\n"
      ],
      "metadata": {
        "id": "q5mMDb2W1R20"
      }
    },
    {
      "cell_type": "markdown",
      "source": [
        "#### Tempo de execução:\n",
        "- Executando 1000 elementos: Em média aproximadamente 0,05 segundos.\n",
        "- Executando 10000 elementos: Em média aproximadamente 5,6 segundos.\n",
        "- Executando 100000 elementos: Em média aproximadamente 540 segundos."
      ],
      "metadata": {
        "id": "ltBDD7SUBn3T"
      }
    },
    {
      "cell_type": "code",
      "source": [
        "import time\n",
        "import copy\n",
        "\n",
        "def InsertionSort(arr):\n",
        "    array = copy.copy(arr)\n",
        "    # Registra o tempo de início\n",
        "    start_time = time.time()\n",
        "    # Algoritmo\n",
        "    for i in range(1, len(array)):\n",
        "        atual = array[i]\n",
        "        j = i - 1\n",
        "        while j >= 0 and atual < array[j]:\n",
        "            array[j + 1] = array[j]\n",
        "            j -= 1\n",
        "        array[j + 1] = atual\n",
        "    # Registra o tempo de término\n",
        "    end_time = time.time()\n",
        "    # Calcula o tempo de execução\n",
        "    execution_time = end_time - start_time\n",
        "    print(f\"Tempo de execução: {execution_time:.6f} segundos\")\n",
        "    return array\n",
        "\n",
        "# Optei por resumir para apenas 8 iniciais e finais no print\n",
        "# Printando o array antes da ordenação:\n",
        "print(f\"Antes:{(array[:8] + ['...'] + array[-8:])}\")\n",
        "# Printando o array depois da ordenação:\n",
        "lista = InsertionSort(array)\n",
        "print(f\"Depois:{(lista[:8] + ['...'] + lista[-8:])}\")"
      ],
      "metadata": {
        "colab": {
          "base_uri": "https://localhost:8080/"
        },
        "id": "Q-Qw0PMd0NdG",
        "outputId": "768332b3-60a7-4228-9824-517e227fff4f"
      },
      "execution_count": 24,
      "outputs": [
        {
          "output_type": "stream",
          "name": "stdout",
          "text": [
            "Antes:[1000, 93287, -2, 94656, -29, -14, 24, -48, '...', -39, -46, 67711, 14, 42, 65284, 26, 58119]\n",
            "Tempo de execução: 0.051934 segundos\n",
            "Depois:[-50, -50, -50, -49, -49, -49, -49, -49, '...', 99199, 99242, 99311, 99638, 99659, 99716, 99877, 99911]\n"
          ]
        }
      ]
    },
    {
      "cell_type": "markdown",
      "source": [
        "### Merge sort:\n"
      ],
      "metadata": {
        "id": "DY6-9wqGYwbD"
      }
    },
    {
      "cell_type": "markdown",
      "source": [
        "#### Explicação do código:\n",
        " Temos duas funções no código abaixo, sendo a primeira MergeSort uma recursiva que até que fique o menor array possível (1 ou 2) vai dividir em  arrays menores esquerda e direita. Quando não é mais possível dividir executa-se o merge que é basicamente juntar o que foi dividido observando o que é maior e o que menor (esquerda ou direita) e juntando os dois, até que o array volte a ter o tamanho que tinha antes, ou seja, execute o Merge da função inicial.\n"
      ],
      "metadata": {
        "id": "F1vKvrUg9m2R"
      }
    },
    {
      "cell_type": "markdown",
      "source": [
        "#### Tempo de execução:\n",
        "- Executando 1000 elementos: Em média aproximadamente 0,005 segundos.\n",
        "- Executando 10000 elementos: Em média aproximadamente 0,05 segundos.\n",
        "- Executando 100000 elementos: Em média aproximadamente 0,7 segundos."
      ],
      "metadata": {
        "id": "qTag5OB9Befz"
      }
    },
    {
      "cell_type": "code",
      "source": [
        "import time\n",
        "\n",
        "def MergeSort(arr, inicio=0, fim=None):\n",
        "    if fim is None:\n",
        "        fim = len(arr)\n",
        "    if fim - inicio > 1:\n",
        "        meio = (fim + inicio) // 2\n",
        "        esquerda = MergeSort(arr[inicio:meio])\n",
        "        direita = MergeSort(arr[meio:fim])\n",
        "        return Merge(esquerda, direita)\n",
        "    return arr\n",
        "\n",
        "def Merge(esquerda, direita):\n",
        "    resultado = []\n",
        "    topo_esquerda = topo_direita = 0\n",
        "\n",
        "    while topo_esquerda < len(esquerda) and topo_direita < len(direita):\n",
        "        if esquerda[topo_esquerda] < direita[topo_direita]:\n",
        "            resultado.append(esquerda[topo_esquerda])\n",
        "            topo_esquerda += 1\n",
        "        else:\n",
        "            resultado.append(direita[topo_direita])\n",
        "            topo_direita += 1\n",
        "\n",
        "    resultado.extend(esquerda[topo_esquerda:])\n",
        "    resultado.extend(direita[topo_direita:])\n",
        "    return resultado\n",
        "\n",
        "# Printando o array antes da ordenação:\n",
        "print(f\"Antes:{(array[:8] + ['...'] + array[-8:])}\")\n",
        "# Printando o array depois da ordenação e registrando o tempo de início:\n",
        "start_time = time.time()\n",
        "lista = MergeSort(array)\n",
        "# Registra o tempo de término\n",
        "end_time = time.time()\n",
        "# Calcula o tempo de execução\n",
        "execution_time = end_time - start_time\n",
        "print(f'Tempo de execução: {execution_time} segundos')\n",
        "print(f\"Depois:{lista[:8] + ['...'] + lista[-8:]}\")\n"
      ],
      "metadata": {
        "colab": {
          "base_uri": "https://localhost:8080/"
        },
        "id": "d5RQyF5yCK2k",
        "outputId": "72acd834-be43-4a0d-858c-3bfd1ad4c6ce"
      },
      "execution_count": 23,
      "outputs": [
        {
          "output_type": "stream",
          "name": "stdout",
          "text": [
            "Antes:[1000, 93287, -2, 94656, -29, -14, 24, -48, '...', -39, -46, 67711, 14, 42, 65284, 26, 58119]\n",
            "Tempo de execução: 0.0047245025634765625 segundos\n",
            "Depois:[-50, -50, -50, -49, -49, -49, -49, -49, '...', 99199, 99242, 99311, 99638, 99659, 99716, 99877, 99911]\n"
          ]
        }
      ]
    }
  ]
}